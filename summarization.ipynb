{
  "cells": [
    {
      "cell_type": "code",
      "source": [
        "import os\n",
        "import openai\n",
        "from google.colab import userdata\n",
        "OPENAI_API_KEY=userdata.get(\"OPENAI_API_KEY\")\n",
        "\n"
      ],
      "metadata": {
        "id": "yA_NBxOXIGMX"
      },
      "execution_count": 34,
      "outputs": []
    },
    {
      "cell_type": "code",
      "source": [
        "#Prompt Summarization\n",
        "\n",
        "from langchain.chat_models import ChatOpenAI\n",
        "from langchain.schema import(\n",
        "    AIMessage,\n",
        "    HumanMessage,\n",
        "    SystemMessage\n",
        ")"
      ],
      "metadata": {
        "id": "2rTG8Jb2IwXp"
      },
      "execution_count": 31,
      "outputs": []
    },
    {
      "cell_type": "code",
      "source": [
        "speech = \"\"\"\n",
        "All right. I’d like to thank you for leaving ‘crazy person’ out of the description. So, I thought — I was trying to think what’s the most useful thing that I – what I can say that can actually be helpful and useful to you in the future. And I thought, perhaps tell the story of how I sort of came to be here. How did these things happen? And maybe there are lessons there. I often find myself wondering, how did this happen.\n",
        "When I was young, I didn’t really know what I was going to do when I got older. People kept asking me. But then eventually, I thought the idea of inventing things would be really cool.\n",
        "And the reason I thought that was because I read a quote from Arthur C. Clark which said that “A sufficiently advanced technology is indistinguishable from magic.’ And that’s really true.\n",
        "If you go back say, 300 years, the things we take for granted today, you’d be burned at stake for. Being able to fly. That’s crazy. Being able to see over long distances, being able to communicate, having effectively with the Internet as a group mind of sorts, and having access to all the world’s information instantly from almost anywhere on the earth. This stuff that really would be magic – that would be considered magic in times past.\n",
        "In fact, I think it actually goes beyond that, because there are many things that we take for granted today that weren’t even imagined in times past, that weren’t even in the realm of magic. So, it actually goes beyond that. So I thought, well if I can do some of those things – basically if I can advance technology, then that is like magic and that would be really cool.\n",
        "\"\"\""
      ],
      "metadata": {
        "id": "pctw5PMrJDBo"
      },
      "execution_count": 32,
      "outputs": []
    },
    {
      "cell_type": "code",
      "source": [
        "chat_messages = [\n",
        "    SystemMessage(content=\"You are an expert assistant with expertize in summarizing speeches\"),\n",
        "    HumanMessage(content=f\"Please provide a short and concise summary of the following speech:\\n TEXT: {speech}\")\n",
        "]\n",
        "\n",
        "llm = ChatOpenAI(openai_api_key=OPENAI_API_KEY,model_name=\"gpt-3.5-turbo\")"
      ],
      "metadata": {
        "collapsed": true,
        "id": "ZHLEq7F4Jzzh"
      },
      "execution_count": 37,
      "outputs": []
    },
    {
      "cell_type": "code",
      "source": [
        "#total tokens\n",
        "\n",
        "llm.get_num_tokens(speech)"
      ],
      "metadata": {
        "colab": {
          "base_uri": "https://localhost:8080/"
        },
        "id": "kXs3NbrSMHEo",
        "outputId": "d831aecc-7aa5-41f8-c4ef-afa45d994c81"
      },
      "execution_count": 38,
      "outputs": [
        {
          "output_type": "execute_result",
          "data": {
            "text/plain": [
              "357"
            ]
          },
          "metadata": {},
          "execution_count": 38
        }
      ]
    },
    {
      "cell_type": "code",
      "source": [
        "#Get summary\n",
        "\n",
        "print(llm.invoke(chat_messages).content)"
      ],
      "metadata": {
        "colab": {
          "base_uri": "https://localhost:8080/"
        },
        "id": "ntSJPC-kMQge",
        "outputId": "f6aef9e4-d432-41c0-adcf-6647087b3c59"
      },
      "execution_count": 40,
      "outputs": [
        {
          "output_type": "stream",
          "name": "stdout",
          "text": [
            "In the speech, the speaker reflects on the idea of technology as a form of magic, drawing inspiration from a quote by Arthur C. Clarke. They share their journey of becoming an inventor and highlight the incredible advancements in technology that were once considered magical. The speaker emphasizes the importance of advancing technology to achieve seemingly magical feats and encourages the audience to consider the endless possibilities of innovation.\n"
          ]
        }
      ]
    },
    {
      "cell_type": "code",
      "source": [
        "#Prompt Templates Text Summarization\n",
        "\n",
        "from langchain.chains import LLMChain\n",
        "from langchain import PromptTemplate"
      ],
      "metadata": {
        "id": "qNZ_Ood6NHYf"
      },
      "execution_count": 41,
      "outputs": []
    },
    {
      "cell_type": "code",
      "source": [
        "generic_template = \"\"\"\n",
        "Write a summary of the following speech:\n",
        "Speech: `{speech}`\n",
        "Translate the precise summary to {language}.\n",
        "\"\"\""
      ],
      "metadata": {
        "id": "5wnC3L1wN4Oy"
      },
      "execution_count": 43,
      "outputs": []
    },
    {
      "cell_type": "code",
      "source": [
        "prompt = PromptTemplate(\n",
        "    input_variables = [\"speech\", \"language\"],\n",
        "    template = generic_template\n",
        ")"
      ],
      "metadata": {
        "id": "KgsvT49yOkt5"
      },
      "execution_count": 44,
      "outputs": []
    },
    {
      "cell_type": "code",
      "source": [
        "complete_prompt = prompt.format(speech=speech, language='French')"
      ],
      "metadata": {
        "id": "lZNZuHGAPC19"
      },
      "execution_count": 45,
      "outputs": []
    },
    {
      "cell_type": "code",
      "source": [
        "llm.get_num_tokens(complete_prompt)"
      ],
      "metadata": {
        "colab": {
          "base_uri": "https://localhost:8080/"
        },
        "id": "7i1TP0yzPLNn",
        "outputId": "55072959-d401-42b5-e2a9-142c2a0d4ace"
      },
      "execution_count": 46,
      "outputs": [
        {
          "output_type": "execute_result",
          "data": {
            "text/plain": [
              "376"
            ]
          },
          "metadata": {},
          "execution_count": 46
        }
      ]
    },
    {
      "cell_type": "code",
      "source": [
        "llm_chain = LLMChain(llm=llm, prompt=prompt)\n",
        "summary = llm_chain.run({\"speech\": speech, \"language\":'french'})"
      ],
      "metadata": {
        "id": "UgiTtXiKPd4C"
      },
      "execution_count": 52,
      "outputs": []
    },
    {
      "cell_type": "code",
      "source": [
        "summary"
      ],
      "metadata": {
        "colab": {
          "base_uri": "https://localhost:8080/",
          "height": 86
        },
        "id": "SPNDWVDJQIrx",
        "outputId": "ff213840-80e6-4049-b83f-e5a78f65a904"
      },
      "execution_count": 53,
      "outputs": [
        {
          "output_type": "execute_result",
          "data": {
            "text/plain": [
              "\"Résumé: Le discours porte sur l'importance de l'innovation technologique et comment cela peut être considéré comme de la magie. Le conférencier raconte comment il a été inspiré par une citation d'Arthur C. Clarke et comment il a réalisé que inventer des choses pourrait être vraiment cool. Il souligne comment de nombreuses technologies avancées d'aujourd'hui étaient considérées comme de la magie dans le passé, et comment il vise à créer des avancées technologiques similaires.\""
            ],
            "application/vnd.google.colaboratory.intrinsic+json": {
              "type": "string"
            }
          },
          "metadata": {},
          "execution_count": 53
        }
      ]
    },
    {
      "cell_type": "code",
      "source": [
        "# PDF Text Summarization\n",
        "\n",
        "from PyPDF2 import PdfReader"
      ],
      "metadata": {
        "id": "FSiGhoVFQ-s6"
      },
      "execution_count": 56,
      "outputs": []
    },
    {
      "cell_type": "code",
      "source": [
        "pdfreader = PdfReader(\"/content/669683274-Elon-Musk-Speech.pdf\")"
      ],
      "metadata": {
        "id": "QvmDefsaRL6b"
      },
      "execution_count": 57,
      "outputs": []
    },
    {
      "cell_type": "code",
      "source": [
        "from typing_extensions import Concatenate"
      ],
      "metadata": {
        "id": "P4FbnwwISOMd"
      },
      "execution_count": 59,
      "outputs": []
    },
    {
      "cell_type": "code",
      "source": [
        "text = \"\"\n",
        "for i, page in enumerate(pdfreader.pages):\n",
        "  content = page.extract_text()\n",
        "  if content:\n",
        "    text += content"
      ],
      "metadata": {
        "id": "hOdrqEYwSVDR"
      },
      "execution_count": 60,
      "outputs": []
    },
    {
      "cell_type": "code",
      "source": [
        "text"
      ],
      "metadata": {
        "colab": {
          "base_uri": "https://localhost:8080/",
          "height": 137
        },
        "id": "ugNXuMQoTXJn",
        "outputId": "995582a2-8370-45f7-c369-51f52326c6e0"
      },
      "execution_count": 61,
      "outputs": [
        {
          "output_type": "execute_result",
          "data": {
            "text/plain": [
              "\"Elon  Musk’s  Incredible  Speech  on  the\\nEducation System | Eye Opening Video\\non Education\\nThere's no need even to have a college degree at all or even high school. I\\nmean if somebody graduated from a great university that may be an indication\\nthat they will be capable of great things, but it's not necessarily the case. You\\nknow if you look at say people like Bill Gates, or Larry Ellison, Steve Jobs, these\\nguys didn't graduate from college but if you had a chance to hire them of course\\nthat  would  be  a  good  idea.  So  you  know  just  looking  just  for  evidence  of\\nexceptional ability and if there's a track record of exceptional achievement then\\nit's likely that that will continue into the future well first of all you don't need\\ncollege learning learn stuff, everything is available basically for free you can learn\\nanything you want for free.\\nIt is not a question of learning there is a value that colleges have which is\\nlike you know seeing whether somebody's can somebody work hard at something\\nincluding a bunch of sort of annoying homework assignments and still do their\\nhomework assignments, and kind of soldier through and get it done you know\\nthat's like the main value of college. And then also you know if you probably want\\nto hang around with a bunch of people your own age for a while instead of going\\nright into the workforce so I think colleges are basically for fun and to prove you\\ncan  do  your  chores  but  they're  not  for  learning.  I  want  to  make  sure  tesla\\nrecruiting does not have anything that says requires university, because that's\\nabsurd but there is a requirement of evidence of exceptional ability. Like if you're\\ntrying  to  do  something  exceptional,  they  must  have  evidence  of  exceptional\\nability. I don't consider going to college evidence of exceptional ability. In fact,\\nideally you dropped out and did something, I mean obviously you look at like you\\nknow Gates is a pretty smart guy he dropped out, Jobs pretty smart he dropped\\nout you know Larry Ellison smart guy he dropped out like obviously not needed.\\nDid Shakespeare even go to college, probably not. So how would you educate your five boys? Actually, I created a little school.\\nWhat kind of school could you subscribe to us? Sure, it's I mean it's small it's only\\ngot 14 kids now and it'll have 20 kids in September, it's called Ad Astra which\\nmeans to the stars. That's maybe a bit different from most other schools, is that\\nthere aren't any grades there's no like not grade, one grade, two grade, three\\ntype of thing. And making all the children go and in the same grade at the same\\ntime like an assembly line. Because some people love English or languages, some\\npeople love math some people love music. And different abilities, different times\\nit makes more sense to cater the education to match their aptitudes and abilities.\\nI think that's one principle, another is that it's important to teach problem solving\\nor teach to the problem not the tools. So this would be like, let's say you're trying\\nto teach people about how engines work or you know you could start by a more\\ntraditional  approach,  would  be  to  say  we're  going  to  teach  you  all  about\\nscrewdrivers and wrenches and you're gonna have a course on screwdrivers or\\ncaution wrenches and all these things and it's this is a very difficult way to do it. A\\nmuch better way would be like here's the engine, now let's take it apart, how\\nwe're gonna take it apart, oh you need a screwdriver that's what the screwdriver\\nis for you, need a wrench that's what the wrench is for. And then a very important\\nthing happens which is that the relevance of the tools becomes apparent. So, or\\nare five boys in that school? Yes. Until when this is from pre-school? So far it's\\nonly one year old, they like it. And you want to keep them away from regular\\nschools? No i just didn't see that the regular schools, just they weren't doing the\\nthings that I thought should be done, like you know those two principles they\\nweren't adhering to those principles. So, I thought well let's see what we can do\\nmaybe creating a school will be better, and I actually hired a teacher from the\\nschool. They were at who also agreed with me that there was a better way to do\\nit, seems to be going pretty well. I mean the kids really love going to school. I\\nthink that's a good sign you know I mean I hated going to school when I was a kid,\\nit was torture. So, the fact that they like they actually think vacations are too long,\\nlike they want to go back to school. Exactly I mean it's actually kind of funny like if\\nyou think you're like what is education like, you're basically downloading data and\\nalgorithms  into  your  brain  and  it's  actually  amazingly  bad  in  conventional\\neducation, because like it shouldn't be like this huge chore, like the more you can\\ngamify the  process  of  learning  the  better.  Like  for  my kids  I do  not  have  to\\nencourage them to play video games. I have to like pry them from their hands like\\ncrack and I think unfortunately like a lot of education is very bored brilliant.\\nYou've got someone's standing up there kind of lecturing at people and they'vedone the same lecture 20 years in a row and they're not very excited about it. And\\nthat lack of enthusiasm is conveyed to the students that they're not very excited\\nabout it. They don't know why they're there, like why are we learning this stuff we\\ndon't even know why. In fact, I think a lot of things people learn probably there's\\nno point in learning them, because they never use them in the future. Well, we\\nhave to say like people I think don't stand back and say well why are we teaching\\npeople these things and we should tell them probably why we're teaching these\\nthings because a lot of kids just in school kind of puzzled as to why they're there,\\nand I think if you can explain the why of things then that makes a huge difference\\nto  people's  motivation. And  they understand  purpose  so  I think  that's  pretty\\nimportant,  and  just  make  it  entertaining  but  I  think  just  in  general  like\\nconventional education should be massively overhauled and I'm sure you very\\nmuch  agree  with  that.  The  analogy  I sometimes  use  is  like,  you've  seen  like\\nbatman like the Chris Nolan movie like the recent one and it's pretty freaking\\nawesome right. And you've got incredible special effects, great script, multiple\\ntakes, amazing actors, and great sound. And it's very it's very engaging, but if you\\nwere to instead say okay that even if you had the same script so at least it's the\\nsame script and you said okay now that script instead of having movies where\\nwe're gonna have that script performed by the local town troop okay. In every\\nsmall town America if movies didn't exist they would have to then recreate the\\ndark knight, right you know with like home sewn costumes and jumping across\\nthe stage and not getting their lines quite right and not really looking like you\\nknow the people in the movie and no special effects. I mean that would suck. It\\nwould be terrible. That’s education. Generally, you want education to be like as\\nclose to a video game as possible, like a good video game like you do not need to\\ntell your kid to play video games. They will play video games on autopilot all day.\\nSo, if you can make it interactive and engaging then then you can make education\\nfar more compelling and far easier to do. So, you really want to disconnect the\\nwhole grade level through the thing from the subject, allow people to progress at\\nthe fastest pace that they can or interested in each subject. It seems like a really\\nobvious thing. I think like most teaching today is a lot like vaudeville, as a result\\njust not that compelling it's like somebody's standing up there and lecturing to\\nyou  and  they've  done  the  same  lecture  several  years  in  a  row  they're  not\\nnecessarily  all  that  engaged  or  in  doing  it.  A  university  education  is  often\\nunnecessary. That's not to say it's unnecessary for all people but I think you\\nprobably learn about as much or the vast majority what you're gonna learn there\\nin the first two years and most of it is from your classmates. Now for a lot ofcompanies, they do want to see the completion of the degree because they're\\nlooking for someone who's going to persevere and see it through to the end, and\\nthat's  actually  what's  important  to  them.  So,  it  really  depends  on  what\\nsomebody's goal is. If the goal is to start a company, I would say, no point in\\nfinishing college. So I think that's how it should be and it shouldn't be that you've\\ngot  like  these  grades  where  people  move  in  lockstep  and  so  everyone  goes\\nthrough you know, goes like normally you know we'll go through English, Math,\\nScience and so forth from like fifth grade to sixth grade to seventh grade like it's\\nan  assembly  line.  But  people  are  not  objects  on  an  assembly  line,  that's  a\\nridiculous notion. They're definitely some good schools out there, but I think the\\nsome of the mistakes, at least in my opinion that I see being made in education, is\\nthat the teachers do not explain why kids are being taught a subject, just sort of\\nget dumped into math and like, well why are you learning math, what's the point\\nof this. It seems like for some people, like, maybe it's, like I don't know why I'm\\nbeing asked to do these strange problems, but you know the why of things is\\nextremely important. Because you know our brain has evolved to not to discard\\ninformation that it thinks is has no relevance. So then, if on the one hand you're\\nbeing asked to memorize or learn, say, formulas, but you don't not know why, this\\nis the case, then you have this cognitive dissonance of, it seems irrelevant, but I'm\\nbeing told to remember it so I'll be punished. So, I better remember it. The why of\\nthings is very important, and picking kind of a problem and then using various\\neducational tools to solve that problem, like using math or physics or economics\\nto solve that problem is far more engaging than teaching the tools.\""
            ],
            "application/vnd.google.colaboratory.intrinsic+json": {
              "type": "string"
            }
          },
          "metadata": {},
          "execution_count": 61
        }
      ]
    },
    {
      "cell_type": "code",
      "source": [
        "from langchain.docstore.document import Document"
      ],
      "metadata": {
        "id": "LeuTVIEJTvVh"
      },
      "execution_count": 63,
      "outputs": []
    },
    {
      "cell_type": "code",
      "source": [
        "docs = [Document(page_content=text)]"
      ],
      "metadata": {
        "id": "5tQ6k9l9UGxG"
      },
      "execution_count": 64,
      "outputs": []
    },
    {
      "cell_type": "code",
      "source": [
        "docs"
      ],
      "metadata": {
        "colab": {
          "base_uri": "https://localhost:8080/"
        },
        "id": "a4jOPfpkUSYF",
        "outputId": "8254f389-f2b2-4879-f516-80417c5983ae"
      },
      "execution_count": 65,
      "outputs": [
        {
          "output_type": "execute_result",
          "data": {
            "text/plain": [
              "[Document(page_content=\"Elon  Musk’s  Incredible  Speech  on  the\\nEducation System | Eye Opening Video\\non Education\\nThere's no need even to have a college degree at all or even high school. I\\nmean if somebody graduated from a great university that may be an indication\\nthat they will be capable of great things, but it's not necessarily the case. You\\nknow if you look at say people like Bill Gates, or Larry Ellison, Steve Jobs, these\\nguys didn't graduate from college but if you had a chance to hire them of course\\nthat  would  be  a  good  idea.  So  you  know  just  looking  just  for  evidence  of\\nexceptional ability and if there's a track record of exceptional achievement then\\nit's likely that that will continue into the future well first of all you don't need\\ncollege learning learn stuff, everything is available basically for free you can learn\\nanything you want for free.\\nIt is not a question of learning there is a value that colleges have which is\\nlike you know seeing whether somebody's can somebody work hard at something\\nincluding a bunch of sort of annoying homework assignments and still do their\\nhomework assignments, and kind of soldier through and get it done you know\\nthat's like the main value of college. And then also you know if you probably want\\nto hang around with a bunch of people your own age for a while instead of going\\nright into the workforce so I think colleges are basically for fun and to prove you\\ncan  do  your  chores  but  they're  not  for  learning.  I  want  to  make  sure  tesla\\nrecruiting does not have anything that says requires university, because that's\\nabsurd but there is a requirement of evidence of exceptional ability. Like if you're\\ntrying  to  do  something  exceptional,  they  must  have  evidence  of  exceptional\\nability. I don't consider going to college evidence of exceptional ability. In fact,\\nideally you dropped out and did something, I mean obviously you look at like you\\nknow Gates is a pretty smart guy he dropped out, Jobs pretty smart he dropped\\nout you know Larry Ellison smart guy he dropped out like obviously not needed.\\nDid Shakespeare even go to college, probably not. So how would you educate your five boys? Actually, I created a little school.\\nWhat kind of school could you subscribe to us? Sure, it's I mean it's small it's only\\ngot 14 kids now and it'll have 20 kids in September, it's called Ad Astra which\\nmeans to the stars. That's maybe a bit different from most other schools, is that\\nthere aren't any grades there's no like not grade, one grade, two grade, three\\ntype of thing. And making all the children go and in the same grade at the same\\ntime like an assembly line. Because some people love English or languages, some\\npeople love math some people love music. And different abilities, different times\\nit makes more sense to cater the education to match their aptitudes and abilities.\\nI think that's one principle, another is that it's important to teach problem solving\\nor teach to the problem not the tools. So this would be like, let's say you're trying\\nto teach people about how engines work or you know you could start by a more\\ntraditional  approach,  would  be  to  say  we're  going  to  teach  you  all  about\\nscrewdrivers and wrenches and you're gonna have a course on screwdrivers or\\ncaution wrenches and all these things and it's this is a very difficult way to do it. A\\nmuch better way would be like here's the engine, now let's take it apart, how\\nwe're gonna take it apart, oh you need a screwdriver that's what the screwdriver\\nis for you, need a wrench that's what the wrench is for. And then a very important\\nthing happens which is that the relevance of the tools becomes apparent. So, or\\nare five boys in that school? Yes. Until when this is from pre-school? So far it's\\nonly one year old, they like it. And you want to keep them away from regular\\nschools? No i just didn't see that the regular schools, just they weren't doing the\\nthings that I thought should be done, like you know those two principles they\\nweren't adhering to those principles. So, I thought well let's see what we can do\\nmaybe creating a school will be better, and I actually hired a teacher from the\\nschool. They were at who also agreed with me that there was a better way to do\\nit, seems to be going pretty well. I mean the kids really love going to school. I\\nthink that's a good sign you know I mean I hated going to school when I was a kid,\\nit was torture. So, the fact that they like they actually think vacations are too long,\\nlike they want to go back to school. Exactly I mean it's actually kind of funny like if\\nyou think you're like what is education like, you're basically downloading data and\\nalgorithms  into  your  brain  and  it's  actually  amazingly  bad  in  conventional\\neducation, because like it shouldn't be like this huge chore, like the more you can\\ngamify the  process  of  learning  the  better.  Like  for  my kids  I do  not  have  to\\nencourage them to play video games. I have to like pry them from their hands like\\ncrack and I think unfortunately like a lot of education is very bored brilliant.\\nYou've got someone's standing up there kind of lecturing at people and they'vedone the same lecture 20 years in a row and they're not very excited about it. And\\nthat lack of enthusiasm is conveyed to the students that they're not very excited\\nabout it. They don't know why they're there, like why are we learning this stuff we\\ndon't even know why. In fact, I think a lot of things people learn probably there's\\nno point in learning them, because they never use them in the future. Well, we\\nhave to say like people I think don't stand back and say well why are we teaching\\npeople these things and we should tell them probably why we're teaching these\\nthings because a lot of kids just in school kind of puzzled as to why they're there,\\nand I think if you can explain the why of things then that makes a huge difference\\nto  people's  motivation. And  they understand  purpose  so  I think  that's  pretty\\nimportant,  and  just  make  it  entertaining  but  I  think  just  in  general  like\\nconventional education should be massively overhauled and I'm sure you very\\nmuch  agree  with  that.  The  analogy  I sometimes  use  is  like,  you've  seen  like\\nbatman like the Chris Nolan movie like the recent one and it's pretty freaking\\nawesome right. And you've got incredible special effects, great script, multiple\\ntakes, amazing actors, and great sound. And it's very it's very engaging, but if you\\nwere to instead say okay that even if you had the same script so at least it's the\\nsame script and you said okay now that script instead of having movies where\\nwe're gonna have that script performed by the local town troop okay. In every\\nsmall town America if movies didn't exist they would have to then recreate the\\ndark knight, right you know with like home sewn costumes and jumping across\\nthe stage and not getting their lines quite right and not really looking like you\\nknow the people in the movie and no special effects. I mean that would suck. It\\nwould be terrible. That’s education. Generally, you want education to be like as\\nclose to a video game as possible, like a good video game like you do not need to\\ntell your kid to play video games. They will play video games on autopilot all day.\\nSo, if you can make it interactive and engaging then then you can make education\\nfar more compelling and far easier to do. So, you really want to disconnect the\\nwhole grade level through the thing from the subject, allow people to progress at\\nthe fastest pace that they can or interested in each subject. It seems like a really\\nobvious thing. I think like most teaching today is a lot like vaudeville, as a result\\njust not that compelling it's like somebody's standing up there and lecturing to\\nyou  and  they've  done  the  same  lecture  several  years  in  a  row  they're  not\\nnecessarily  all  that  engaged  or  in  doing  it.  A  university  education  is  often\\nunnecessary. That's not to say it's unnecessary for all people but I think you\\nprobably learn about as much or the vast majority what you're gonna learn there\\nin the first two years and most of it is from your classmates. Now for a lot ofcompanies, they do want to see the completion of the degree because they're\\nlooking for someone who's going to persevere and see it through to the end, and\\nthat's  actually  what's  important  to  them.  So,  it  really  depends  on  what\\nsomebody's goal is. If the goal is to start a company, I would say, no point in\\nfinishing college. So I think that's how it should be and it shouldn't be that you've\\ngot  like  these  grades  where  people  move  in  lockstep  and  so  everyone  goes\\nthrough you know, goes like normally you know we'll go through English, Math,\\nScience and so forth from like fifth grade to sixth grade to seventh grade like it's\\nan  assembly  line.  But  people  are  not  objects  on  an  assembly  line,  that's  a\\nridiculous notion. They're definitely some good schools out there, but I think the\\nsome of the mistakes, at least in my opinion that I see being made in education, is\\nthat the teachers do not explain why kids are being taught a subject, just sort of\\nget dumped into math and like, well why are you learning math, what's the point\\nof this. It seems like for some people, like, maybe it's, like I don't know why I'm\\nbeing asked to do these strange problems, but you know the why of things is\\nextremely important. Because you know our brain has evolved to not to discard\\ninformation that it thinks is has no relevance. So then, if on the one hand you're\\nbeing asked to memorize or learn, say, formulas, but you don't not know why, this\\nis the case, then you have this cognitive dissonance of, it seems irrelevant, but I'm\\nbeing told to remember it so I'll be punished. So, I better remember it. The why of\\nthings is very important, and picking kind of a problem and then using various\\neducational tools to solve that problem, like using math or physics or economics\\nto solve that problem is far more engaging than teaching the tools.\")]"
            ]
          },
          "metadata": {},
          "execution_count": 65
        }
      ]
    },
    {
      "cell_type": "code",
      "source": [
        "llm = ChatOpenAI(openai_api_key=OPENAI_API_KEY,model_name=\"gpt-3.5-turbo\", temperature=0)"
      ],
      "metadata": {
        "id": "QIWL3S5BUVGD"
      },
      "execution_count": 67,
      "outputs": []
    },
    {
      "cell_type": "code",
      "source": [
        "from langchain.chains.summarize import load_summarize_chain"
      ],
      "metadata": {
        "id": "mJqoQs3vU1Of"
      },
      "execution_count": 68,
      "outputs": []
    },
    {
      "cell_type": "code",
      "source": [
        "template = \"\"\"\n",
        "Write a concise and short summary of the following speech.\n",
        "Speech: `{text}`\n",
        "\"\"\"\n",
        "\n",
        "prompt = PromptTemplate(\n",
        "    input_variables=[\"text\"],\n",
        "    template=template\n",
        ")"
      ],
      "metadata": {
        "id": "-BOSChyJU-GQ"
      },
      "execution_count": 69,
      "outputs": []
    },
    {
      "cell_type": "code",
      "source": [
        "chain = load_summarize_chain(\n",
        "    llm,\n",
        "    chain_type=\"stuff\",\n",
        "    prompt=prompt,\n",
        "    verbose=False\n",
        ")\n",
        "\n",
        "output_summary = chain.run(docs)"
      ],
      "metadata": {
        "id": "zvwjUG4WVo8t"
      },
      "execution_count": 71,
      "outputs": []
    },
    {
      "cell_type": "code",
      "source": [
        "output_summary"
      ],
      "metadata": {
        "colab": {
          "base_uri": "https://localhost:8080/",
          "height": 120
        },
        "id": "a66IHetKWRi0",
        "outputId": "ac7591a3-8cce-4ff6-ea33-8b0fa2e62d53"
      },
      "execution_count": 72,
      "outputs": [
        {
          "output_type": "execute_result",
          "data": {
            "text/plain": [
              "'Elon Musk questions the value of traditional education, stating that college degrees are not necessary for success. He emphasizes the importance of exceptional ability and problem-solving skills over formal education. Musk criticizes the current education system for lacking engagement and relevance, advocating for a more personalized and interactive approach to learning. He also discusses his own unconventional school, Ad Astra, which focuses on individual aptitudes and interests rather than traditional grade levels. Musk believes that education should be more like a video game, engaging and compelling, rather than a boring lecture. He suggests that the why of learning is crucial for motivation and retention of information. Ultimately, Musk argues that education should be tailored to individual needs and goals, rather than following a one-size-fits-all approach.'"
            ],
            "application/vnd.google.colaboratory.intrinsic+json": {
              "type": "string"
            }
          },
          "metadata": {},
          "execution_count": 72
        }
      ]
    },
    {
      "cell_type": "code",
      "source": [
        "#Summarizing Large Documents Using Map Reduce\n",
        "\n",
        "from langchain.text_splitter import RecursiveCharacterTextSplitter"
      ],
      "metadata": {
        "id": "WEAygj-uWWUP"
      },
      "execution_count": 73,
      "outputs": []
    },
    {
      "cell_type": "code",
      "source": [
        "pdfreader = PdfReader(\"/content/669683274-Elon-Musk-Speech.pdf\")\n",
        "\n",
        "text = \"\"\n",
        "for i, page in enumerate(pdfreader.pages):\n",
        "  content = page.extract_text()\n",
        "  if content:\n",
        "    text += content"
      ],
      "metadata": {
        "id": "oE94Kp5_Wljc"
      },
      "execution_count": 74,
      "outputs": []
    },
    {
      "cell_type": "code",
      "source": [
        "llm.get_num_tokens(text)"
      ],
      "metadata": {
        "colab": {
          "base_uri": "https://localhost:8080/"
        },
        "id": "OLQohI7QXJqq",
        "outputId": "99e17207-64a7-46e0-8471-890a54150d96"
      },
      "execution_count": 75,
      "outputs": [
        {
          "output_type": "execute_result",
          "data": {
            "text/plain": [
              "2398"
            ]
          },
          "metadata": {},
          "execution_count": 75
        }
      ]
    },
    {
      "cell_type": "code",
      "source": [
        "text_splitter = RecursiveCharacterTextSplitter(chunk_size=10000, chunk_overlap=20)\n",
        "chunks = text_splitter.create_documents([text])"
      ],
      "metadata": {
        "id": "7S0Jd9d8XRcr"
      },
      "execution_count": 77,
      "outputs": []
    },
    {
      "cell_type": "code",
      "source": [
        "chunks"
      ],
      "metadata": {
        "colab": {
          "base_uri": "https://localhost:8080/"
        },
        "id": "lre_tmEwXocg",
        "outputId": "85fc41ba-2dd2-498b-efa0-2d7f98ec4fae"
      },
      "execution_count": 78,
      "outputs": [
        {
          "output_type": "execute_result",
          "data": {
            "text/plain": [
              "[Document(page_content=\"Elon  Musk’s  Incredible  Speech  on  the\\nEducation System | Eye Opening Video\\non Education\\nThere's no need even to have a college degree at all or even high school. I\\nmean if somebody graduated from a great university that may be an indication\\nthat they will be capable of great things, but it's not necessarily the case. You\\nknow if you look at say people like Bill Gates, or Larry Ellison, Steve Jobs, these\\nguys didn't graduate from college but if you had a chance to hire them of course\\nthat  would  be  a  good  idea.  So  you  know  just  looking  just  for  evidence  of\\nexceptional ability and if there's a track record of exceptional achievement then\\nit's likely that that will continue into the future well first of all you don't need\\ncollege learning learn stuff, everything is available basically for free you can learn\\nanything you want for free.\\nIt is not a question of learning there is a value that colleges have which is\\nlike you know seeing whether somebody's can somebody work hard at something\\nincluding a bunch of sort of annoying homework assignments and still do their\\nhomework assignments, and kind of soldier through and get it done you know\\nthat's like the main value of college. And then also you know if you probably want\\nto hang around with a bunch of people your own age for a while instead of going\\nright into the workforce so I think colleges are basically for fun and to prove you\\ncan  do  your  chores  but  they're  not  for  learning.  I  want  to  make  sure  tesla\\nrecruiting does not have anything that says requires university, because that's\\nabsurd but there is a requirement of evidence of exceptional ability. Like if you're\\ntrying  to  do  something  exceptional,  they  must  have  evidence  of  exceptional\\nability. I don't consider going to college evidence of exceptional ability. In fact,\\nideally you dropped out and did something, I mean obviously you look at like you\\nknow Gates is a pretty smart guy he dropped out, Jobs pretty smart he dropped\\nout you know Larry Ellison smart guy he dropped out like obviously not needed.\\nDid Shakespeare even go to college, probably not. So how would you educate your five boys? Actually, I created a little school.\\nWhat kind of school could you subscribe to us? Sure, it's I mean it's small it's only\\ngot 14 kids now and it'll have 20 kids in September, it's called Ad Astra which\\nmeans to the stars. That's maybe a bit different from most other schools, is that\\nthere aren't any grades there's no like not grade, one grade, two grade, three\\ntype of thing. And making all the children go and in the same grade at the same\\ntime like an assembly line. Because some people love English or languages, some\\npeople love math some people love music. And different abilities, different times\\nit makes more sense to cater the education to match their aptitudes and abilities.\\nI think that's one principle, another is that it's important to teach problem solving\\nor teach to the problem not the tools. So this would be like, let's say you're trying\\nto teach people about how engines work or you know you could start by a more\\ntraditional  approach,  would  be  to  say  we're  going  to  teach  you  all  about\\nscrewdrivers and wrenches and you're gonna have a course on screwdrivers or\\ncaution wrenches and all these things and it's this is a very difficult way to do it. A\\nmuch better way would be like here's the engine, now let's take it apart, how\\nwe're gonna take it apart, oh you need a screwdriver that's what the screwdriver\\nis for you, need a wrench that's what the wrench is for. And then a very important\\nthing happens which is that the relevance of the tools becomes apparent. So, or\\nare five boys in that school? Yes. Until when this is from pre-school? So far it's\\nonly one year old, they like it. And you want to keep them away from regular\\nschools? No i just didn't see that the regular schools, just they weren't doing the\\nthings that I thought should be done, like you know those two principles they\\nweren't adhering to those principles. So, I thought well let's see what we can do\\nmaybe creating a school will be better, and I actually hired a teacher from the\\nschool. They were at who also agreed with me that there was a better way to do\\nit, seems to be going pretty well. I mean the kids really love going to school. I\\nthink that's a good sign you know I mean I hated going to school when I was a kid,\\nit was torture. So, the fact that they like they actually think vacations are too long,\\nlike they want to go back to school. Exactly I mean it's actually kind of funny like if\\nyou think you're like what is education like, you're basically downloading data and\\nalgorithms  into  your  brain  and  it's  actually  amazingly  bad  in  conventional\\neducation, because like it shouldn't be like this huge chore, like the more you can\\ngamify the  process  of  learning  the  better.  Like  for  my kids  I do  not  have  to\\nencourage them to play video games. I have to like pry them from their hands like\\ncrack and I think unfortunately like a lot of education is very bored brilliant.\\nYou've got someone's standing up there kind of lecturing at people and they'vedone the same lecture 20 years in a row and they're not very excited about it. And\\nthat lack of enthusiasm is conveyed to the students that they're not very excited\\nabout it. They don't know why they're there, like why are we learning this stuff we\\ndon't even know why. In fact, I think a lot of things people learn probably there's\\nno point in learning them, because they never use them in the future. Well, we\\nhave to say like people I think don't stand back and say well why are we teaching\\npeople these things and we should tell them probably why we're teaching these\\nthings because a lot of kids just in school kind of puzzled as to why they're there,\\nand I think if you can explain the why of things then that makes a huge difference\\nto  people's  motivation. And  they understand  purpose  so  I think  that's  pretty\\nimportant,  and  just  make  it  entertaining  but  I  think  just  in  general  like\\nconventional education should be massively overhauled and I'm sure you very\\nmuch  agree  with  that.  The  analogy  I sometimes  use  is  like,  you've  seen  like\\nbatman like the Chris Nolan movie like the recent one and it's pretty freaking\\nawesome right. And you've got incredible special effects, great script, multiple\\ntakes, amazing actors, and great sound. And it's very it's very engaging, but if you\\nwere to instead say okay that even if you had the same script so at least it's the\\nsame script and you said okay now that script instead of having movies where\\nwe're gonna have that script performed by the local town troop okay. In every\\nsmall town America if movies didn't exist they would have to then recreate the\\ndark knight, right you know with like home sewn costumes and jumping across\\nthe stage and not getting their lines quite right and not really looking like you\\nknow the people in the movie and no special effects. I mean that would suck. It\\nwould be terrible. That’s education. Generally, you want education to be like as\\nclose to a video game as possible, like a good video game like you do not need to\\ntell your kid to play video games. They will play video games on autopilot all day.\\nSo, if you can make it interactive and engaging then then you can make education\\nfar more compelling and far easier to do. So, you really want to disconnect the\\nwhole grade level through the thing from the subject, allow people to progress at\\nthe fastest pace that they can or interested in each subject. It seems like a really\\nobvious thing. I think like most teaching today is a lot like vaudeville, as a result\\njust not that compelling it's like somebody's standing up there and lecturing to\\nyou  and  they've  done  the  same  lecture  several  years  in  a  row  they're  not\\nnecessarily  all  that  engaged  or  in  doing  it.  A  university  education  is  often\\nunnecessary. That's not to say it's unnecessary for all people but I think you\\nprobably learn about as much or the vast majority what you're gonna learn there\\nin the first two years and most of it is from your classmates. Now for a lot ofcompanies, they do want to see the completion of the degree because they're\\nlooking for someone who's going to persevere and see it through to the end, and\\nthat's  actually  what's  important  to  them.  So,  it  really  depends  on  what\\nsomebody's goal is. If the goal is to start a company, I would say, no point in\\nfinishing college. So I think that's how it should be and it shouldn't be that you've\\ngot  like  these  grades  where  people  move  in  lockstep  and  so  everyone  goes\\nthrough you know, goes like normally you know we'll go through English, Math,\\nScience and so forth from like fifth grade to sixth grade to seventh grade like it's\\nan  assembly  line.  But  people  are  not  objects  on  an  assembly  line,  that's  a\\nridiculous notion. They're definitely some good schools out there, but I think the\\nsome of the mistakes, at least in my opinion that I see being made in education, is\\nthat the teachers do not explain why kids are being taught a subject, just sort of\\nget dumped into math and like, well why are you learning math, what's the point\\nof this. It seems like for some people, like, maybe it's, like I don't know why I'm\\nbeing asked to do these strange problems, but you know the why of things is\\nextremely important. Because you know our brain has evolved to not to discard\\ninformation that it thinks is has no relevance. So then, if on the one hand you're\\nbeing asked to memorize or learn, say, formulas, but you don't not know why, this\\nis the case, then you have this cognitive dissonance of, it seems irrelevant, but I'm\\nbeing told to remember it so I'll be punished. So, I better remember it. The why of\\nthings is very important, and picking kind of a problem and then using various\\neducational tools to solve that problem, like using math or physics or economics\"),\n",
              " Document(page_content='to solve that problem is far more engaging than teaching the tools.')]"
            ]
          },
          "metadata": {},
          "execution_count": 78
        }
      ]
    },
    {
      "cell_type": "code",
      "source": [
        "chain = load_summarize_chain(\n",
        "    llm,\n",
        "    chain_type=\"map_reduce\",\n",
        "    verbose=False\n",
        ")\n",
        "\n",
        "summary = chain.run(chunks)"
      ],
      "metadata": {
        "id": "RH7VPcK5Xun_"
      },
      "execution_count": 80,
      "outputs": []
    },
    {
      "cell_type": "code",
      "source": [
        "summary"
      ],
      "metadata": {
        "colab": {
          "base_uri": "https://localhost:8080/",
          "height": 86
        },
        "id": "QlhfaGXHYRFx",
        "outputId": "55ba53f9-626c-4acf-9eb5-a07b7aa6a6b5"
      },
      "execution_count": 81,
      "outputs": [
        {
          "output_type": "execute_result",
          "data": {
            "text/plain": [
              "'Elon Musk criticizes traditional education as outdated and unnecessary, advocating for individualized learning and problem-solving. He created Ad Astra school for his children, emphasizing the importance of exceptional ability over formal education. Musk believes education should be more engaging and relevant, tailored to individual interests and abilities rather than following a standardized curriculum. He suggests that solving problems is more engaging than teaching tools.'"
            ],
            "application/vnd.google.colaboratory.intrinsic+json": {
              "type": "string"
            }
          },
          "metadata": {},
          "execution_count": 81
        }
      ]
    },
    {
      "cell_type": "code",
      "source": [
        "# Map Reduce With Custom Prompts\n",
        "\n",
        "chunk_prompt = \"\"\"\n",
        "Please summarize the below speech:\n",
        "Speech: `{text}`\n",
        "Summary:\n",
        "\"\"\"\n",
        "map_prompt_template = PromptTemplate(input_variables=[\"text\"], template=chunk_prompt)"
      ],
      "metadata": {
        "id": "wRJJKkwNYU93"
      },
      "execution_count": 82,
      "outputs": []
    },
    {
      "cell_type": "code",
      "source": [
        "final_combine_prompt = \"\"\"\n",
        "Please provide a final summary of the entire speech with these important points.\n",
        "Add a Generative Motivational Title.\n",
        "Start the precise summary with an introduction and provide the summary in number points for the speech.\n",
        "Speech: `{text}`\n",
        "\"\"\"\n",
        "\n",
        "final_combine_prompt_template = PromptTemplate(input_variables=[\"text\"], template=final_combine_prompt)"
      ],
      "metadata": {
        "id": "JjLAl1MYYzWf"
      },
      "execution_count": 83,
      "outputs": []
    },
    {
      "cell_type": "code",
      "source": [
        "summary_chain = load_summarize_chain(\n",
        "    llm=llm,\n",
        "    chain_type=\"map_reduce\",\n",
        "    map_prompt=map_prompt_template,\n",
        "    combine_prompt=final_combine_prompt_template,\n",
        "    verbose=False\n",
        ")\n",
        "\n",
        "output = summary_chain.run(chunks)"
      ],
      "metadata": {
        "id": "WQY0UhgxZiUb"
      },
      "execution_count": 84,
      "outputs": []
    },
    {
      "cell_type": "code",
      "source": [
        "output"
      ],
      "metadata": {
        "colab": {
          "base_uri": "https://localhost:8080/",
          "height": 137
        },
        "id": "i-GTVwlfZ6Li",
        "outputId": "274221e4-eee9-4e4b-e3c2-33657a06d738"
      },
      "execution_count": 85,
      "outputs": [
        {
          "output_type": "execute_result",
          "data": {
            "text/plain": [
              "'Title: \"Unleashing Potential: A New Approach to Education\"\\n\\nIntroduction:\\nIn his speech, Elon Musk challenges the traditional education system and advocates for a more engaging and interactive approach to learning.\\n\\nSummary:\\n1. Musk believes that traditional education is not necessary for success and that colleges are mainly for fun and proving one\\'s ability to work hard.\\n2. He created a school called Ad Astra for his children, where there are no grades and education is tailored to each child\\'s interests and abilities.\\n3. Musk advocates for a more engaging and interactive approach to education, comparing it to a video game.\\n4. He believes that the why of learning is important and that education should focus on problem-solving rather than memorization.\\n5. Musk suggests that university education may not be necessary for everyone, especially for those looking to start a company.\\n6. He criticizes the assembly line approach to education and emphasizes the importance of explaining the purpose behind learning subjects.\\n7. The speaker emphasizes that finding solutions to problems is more important and interesting than simply teaching the tools needed to solve them. \\n\\nIn conclusion, Elon Musk\\'s speech highlights the need for a shift in the education system towards a more personalized, problem-solving approach that focuses on individual interests and abilities.'"
            ],
            "application/vnd.google.colaboratory.intrinsic+json": {
              "type": "string"
            }
          },
          "metadata": {},
          "execution_count": 85
        }
      ]
    },
    {
      "cell_type": "code",
      "source": [
        "# RefineChain for Summarization\n",
        "\n",
        "chain = load_summarize_chain(\n",
        "    llm=llm,\n",
        "    chain_type=\"refine\",\n",
        "    verbose=True\n",
        ")\n",
        "\n",
        "output_summary = chain.run(chunks)"
      ],
      "metadata": {
        "colab": {
          "base_uri": "https://localhost:8080/"
        },
        "id": "W-KsFSsmaEqV",
        "outputId": "1d454681-2775-49ed-f5e7-45443abd0c9f"
      },
      "execution_count": 86,
      "outputs": [
        {
          "output_type": "stream",
          "name": "stdout",
          "text": [
            "\n",
            "\n",
            "\u001b[1m> Entering new RefineDocumentsChain chain...\u001b[0m\n",
            "\n",
            "\n",
            "\u001b[1m> Entering new LLMChain chain...\u001b[0m\n",
            "Prompt after formatting:\n",
            "\u001b[32;1m\u001b[1;3mWrite a concise summary of the following:\n",
            "\n",
            "\n",
            "\"Elon  Musk’s  Incredible  Speech  on  the\n",
            "Education System | Eye Opening Video\n",
            "on Education\n",
            "There's no need even to have a college degree at all or even high school. I\n",
            "mean if somebody graduated from a great university that may be an indication\n",
            "that they will be capable of great things, but it's not necessarily the case. You\n",
            "know if you look at say people like Bill Gates, or Larry Ellison, Steve Jobs, these\n",
            "guys didn't graduate from college but if you had a chance to hire them of course\n",
            "that  would  be  a  good  idea.  So  you  know  just  looking  just  for  evidence  of\n",
            "exceptional ability and if there's a track record of exceptional achievement then\n",
            "it's likely that that will continue into the future well first of all you don't need\n",
            "college learning learn stuff, everything is available basically for free you can learn\n",
            "anything you want for free.\n",
            "It is not a question of learning there is a value that colleges have which is\n",
            "like you know seeing whether somebody's can somebody work hard at something\n",
            "including a bunch of sort of annoying homework assignments and still do their\n",
            "homework assignments, and kind of soldier through and get it done you know\n",
            "that's like the main value of college. And then also you know if you probably want\n",
            "to hang around with a bunch of people your own age for a while instead of going\n",
            "right into the workforce so I think colleges are basically for fun and to prove you\n",
            "can  do  your  chores  but  they're  not  for  learning.  I  want  to  make  sure  tesla\n",
            "recruiting does not have anything that says requires university, because that's\n",
            "absurd but there is a requirement of evidence of exceptional ability. Like if you're\n",
            "trying  to  do  something  exceptional,  they  must  have  evidence  of  exceptional\n",
            "ability. I don't consider going to college evidence of exceptional ability. In fact,\n",
            "ideally you dropped out and did something, I mean obviously you look at like you\n",
            "know Gates is a pretty smart guy he dropped out, Jobs pretty smart he dropped\n",
            "out you know Larry Ellison smart guy he dropped out like obviously not needed.\n",
            "Did Shakespeare even go to college, probably not. So how would you educate your five boys? Actually, I created a little school.\n",
            "What kind of school could you subscribe to us? Sure, it's I mean it's small it's only\n",
            "got 14 kids now and it'll have 20 kids in September, it's called Ad Astra which\n",
            "means to the stars. That's maybe a bit different from most other schools, is that\n",
            "there aren't any grades there's no like not grade, one grade, two grade, three\n",
            "type of thing. And making all the children go and in the same grade at the same\n",
            "time like an assembly line. Because some people love English or languages, some\n",
            "people love math some people love music. And different abilities, different times\n",
            "it makes more sense to cater the education to match their aptitudes and abilities.\n",
            "I think that's one principle, another is that it's important to teach problem solving\n",
            "or teach to the problem not the tools. So this would be like, let's say you're trying\n",
            "to teach people about how engines work or you know you could start by a more\n",
            "traditional  approach,  would  be  to  say  we're  going  to  teach  you  all  about\n",
            "screwdrivers and wrenches and you're gonna have a course on screwdrivers or\n",
            "caution wrenches and all these things and it's this is a very difficult way to do it. A\n",
            "much better way would be like here's the engine, now let's take it apart, how\n",
            "we're gonna take it apart, oh you need a screwdriver that's what the screwdriver\n",
            "is for you, need a wrench that's what the wrench is for. And then a very important\n",
            "thing happens which is that the relevance of the tools becomes apparent. So, or\n",
            "are five boys in that school? Yes. Until when this is from pre-school? So far it's\n",
            "only one year old, they like it. And you want to keep them away from regular\n",
            "schools? No i just didn't see that the regular schools, just they weren't doing the\n",
            "things that I thought should be done, like you know those two principles they\n",
            "weren't adhering to those principles. So, I thought well let's see what we can do\n",
            "maybe creating a school will be better, and I actually hired a teacher from the\n",
            "school. They were at who also agreed with me that there was a better way to do\n",
            "it, seems to be going pretty well. I mean the kids really love going to school. I\n",
            "think that's a good sign you know I mean I hated going to school when I was a kid,\n",
            "it was torture. So, the fact that they like they actually think vacations are too long,\n",
            "like they want to go back to school. Exactly I mean it's actually kind of funny like if\n",
            "you think you're like what is education like, you're basically downloading data and\n",
            "algorithms  into  your  brain  and  it's  actually  amazingly  bad  in  conventional\n",
            "education, because like it shouldn't be like this huge chore, like the more you can\n",
            "gamify the  process  of  learning  the  better.  Like  for  my kids  I do  not  have  to\n",
            "encourage them to play video games. I have to like pry them from their hands like\n",
            "crack and I think unfortunately like a lot of education is very bored brilliant.\n",
            "You've got someone's standing up there kind of lecturing at people and they'vedone the same lecture 20 years in a row and they're not very excited about it. And\n",
            "that lack of enthusiasm is conveyed to the students that they're not very excited\n",
            "about it. They don't know why they're there, like why are we learning this stuff we\n",
            "don't even know why. In fact, I think a lot of things people learn probably there's\n",
            "no point in learning them, because they never use them in the future. Well, we\n",
            "have to say like people I think don't stand back and say well why are we teaching\n",
            "people these things and we should tell them probably why we're teaching these\n",
            "things because a lot of kids just in school kind of puzzled as to why they're there,\n",
            "and I think if you can explain the why of things then that makes a huge difference\n",
            "to  people's  motivation. And  they understand  purpose  so  I think  that's  pretty\n",
            "important,  and  just  make  it  entertaining  but  I  think  just  in  general  like\n",
            "conventional education should be massively overhauled and I'm sure you very\n",
            "much  agree  with  that.  The  analogy  I sometimes  use  is  like,  you've  seen  like\n",
            "batman like the Chris Nolan movie like the recent one and it's pretty freaking\n",
            "awesome right. And you've got incredible special effects, great script, multiple\n",
            "takes, amazing actors, and great sound. And it's very it's very engaging, but if you\n",
            "were to instead say okay that even if you had the same script so at least it's the\n",
            "same script and you said okay now that script instead of having movies where\n",
            "we're gonna have that script performed by the local town troop okay. In every\n",
            "small town America if movies didn't exist they would have to then recreate the\n",
            "dark knight, right you know with like home sewn costumes and jumping across\n",
            "the stage and not getting their lines quite right and not really looking like you\n",
            "know the people in the movie and no special effects. I mean that would suck. It\n",
            "would be terrible. That’s education. Generally, you want education to be like as\n",
            "close to a video game as possible, like a good video game like you do not need to\n",
            "tell your kid to play video games. They will play video games on autopilot all day.\n",
            "So, if you can make it interactive and engaging then then you can make education\n",
            "far more compelling and far easier to do. So, you really want to disconnect the\n",
            "whole grade level through the thing from the subject, allow people to progress at\n",
            "the fastest pace that they can or interested in each subject. It seems like a really\n",
            "obvious thing. I think like most teaching today is a lot like vaudeville, as a result\n",
            "just not that compelling it's like somebody's standing up there and lecturing to\n",
            "you  and  they've  done  the  same  lecture  several  years  in  a  row  they're  not\n",
            "necessarily  all  that  engaged  or  in  doing  it.  A  university  education  is  often\n",
            "unnecessary. That's not to say it's unnecessary for all people but I think you\n",
            "probably learn about as much or the vast majority what you're gonna learn there\n",
            "in the first two years and most of it is from your classmates. Now for a lot ofcompanies, they do want to see the completion of the degree because they're\n",
            "looking for someone who's going to persevere and see it through to the end, and\n",
            "that's  actually  what's  important  to  them.  So,  it  really  depends  on  what\n",
            "somebody's goal is. If the goal is to start a company, I would say, no point in\n",
            "finishing college. So I think that's how it should be and it shouldn't be that you've\n",
            "got  like  these  grades  where  people  move  in  lockstep  and  so  everyone  goes\n",
            "through you know, goes like normally you know we'll go through English, Math,\n",
            "Science and so forth from like fifth grade to sixth grade to seventh grade like it's\n",
            "an  assembly  line.  But  people  are  not  objects  on  an  assembly  line,  that's  a\n",
            "ridiculous notion. They're definitely some good schools out there, but I think the\n",
            "some of the mistakes, at least in my opinion that I see being made in education, is\n",
            "that the teachers do not explain why kids are being taught a subject, just sort of\n",
            "get dumped into math and like, well why are you learning math, what's the point\n",
            "of this. It seems like for some people, like, maybe it's, like I don't know why I'm\n",
            "being asked to do these strange problems, but you know the why of things is\n",
            "extremely important. Because you know our brain has evolved to not to discard\n",
            "information that it thinks is has no relevance. So then, if on the one hand you're\n",
            "being asked to memorize or learn, say, formulas, but you don't not know why, this\n",
            "is the case, then you have this cognitive dissonance of, it seems irrelevant, but I'm\n",
            "being told to remember it so I'll be punished. So, I better remember it. The why of\n",
            "things is very important, and picking kind of a problem and then using various\n",
            "educational tools to solve that problem, like using math or physics or economics\"\n",
            "\n",
            "\n",
            "CONCISE SUMMARY:\u001b[0m\n",
            "\n",
            "\u001b[1m> Finished chain.\u001b[0m\n",
            "\n",
            "\n",
            "\u001b[1m> Entering new LLMChain chain...\u001b[0m\n",
            "Prompt after formatting:\n",
            "\u001b[32;1m\u001b[1;3mYour job is to produce a final summary.\n",
            "We have provided an existing summary up to a certain point: Elon Musk believes that traditional education is outdated and unnecessary for success. He created a school called Ad Astra that focuses on individualized learning and problem-solving. Musk advocates for a more engaging and interactive approach to education, comparing it to a video game. He believes that the why of learning is crucial and that education should not be a one-size-fits-all approach. Musk also suggests that university education may not be necessary for everyone, especially for those looking to start a company.\n",
            "We have the opportunity to refine the existing summary (only if needed) with some more context below.\n",
            "------------\n",
            "to solve that problem is far more engaging than teaching the tools.\n",
            "------------\n",
            "Given the new context, refine the original summary.\n",
            "If the context isn't useful, return the original summary.\u001b[0m\n",
            "\n",
            "\u001b[1m> Finished chain.\u001b[0m\n",
            "\n",
            "\u001b[1m> Finished chain.\u001b[0m\n"
          ]
        }
      ]
    }
  ],
  "metadata": {
    "colab": {
      "provenance": []
    },
    "kernelspec": {
      "display_name": "Python 3",
      "name": "python3"
    },
    "language_info": {
      "name": "python"
    }
  },
  "nbformat": 4,
  "nbformat_minor": 0
}